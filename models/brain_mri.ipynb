{
 "cells": [
  {
   "cell_type": "code",
   "id": "initial_id",
   "metadata": {
    "collapsed": true,
    "ExecuteTime": {
     "end_time": "2025-10-11T14:16:52.846484Z",
     "start_time": "2025-10-11T14:16:46.256491Z"
    }
   },
   "source": [
    "import os\n",
    "from torchvision import datasets, transforms\n",
    "from torch.utils.data import DataLoader\n",
    "import torch\n",
    "import torch.nn as nn\n",
    "import torch.optim as optim\n",
    "import torch.nn.functional as F\n",
    "import time\n",
    "import torchvision.models as models\n",
    "from matplotlib import pyplot as plt"
   ],
   "outputs": [],
   "execution_count": 1
  },
  {
   "metadata": {
    "ExecuteTime": {
     "end_time": "2025-10-11T14:16:56.251905Z",
     "start_time": "2025-10-11T14:16:56.240237Z"
    }
   },
   "cell_type": "code",
   "source": [
    "device = torch.device(\"cuda\" if torch.cuda.is_available() else \"cpu\")\n",
    "device"
   ],
   "id": "4449733c670ef1ba",
   "outputs": [
    {
     "data": {
      "text/plain": [
       "device(type='cpu')"
      ]
     },
     "execution_count": 2,
     "metadata": {},
     "output_type": "execute_result"
    }
   ],
   "execution_count": 2
  },
  {
   "metadata": {
    "ExecuteTime": {
     "end_time": "2025-10-11T14:16:58.797381Z",
     "start_time": "2025-10-11T14:16:58.792773Z"
    }
   },
   "cell_type": "code",
   "source": [
    "train_transform = transforms.Compose([\n",
    "    transforms.Resize((224,224)),\n",
    "    transforms.Grayscale(num_output_channels=3),\n",
    "    transforms.RandomHorizontalFlip(),\n",
    "    transforms.RandomRotation(10),\n",
    "    transforms.ToTensor(),\n",
    "    transforms.Normalize([0.485,0.456,0.406],[0.229,0.224,0.225])\n",
    "])\n",
    "eval_test_transform = transforms.Compose([\n",
    "    transforms.Resize((224,224)),\n",
    "    transforms.Grayscale(num_output_channels=3),  # convert 1-channel → 3-channel\n",
    "    transforms.ToTensor(),\n",
    "    transforms.Normalize([0.485,0.456,0.406],[0.229,0.224,0.225])\n",
    "])"
   ],
   "id": "2e1298a3116c4746",
   "outputs": [],
   "execution_count": 3
  },
  {
   "metadata": {
    "ExecuteTime": {
     "end_time": "2025-10-11T14:17:01.278694Z",
     "start_time": "2025-10-11T14:17:01.206718Z"
    }
   },
   "cell_type": "code",
   "source": [
    "from torch.utils.data import random_split\n",
    "\n",
    "train_dataset = datasets.ImageFolder(r'C:\\Radiologist_helper\\datasets\\brain_mri\\Training', transform=train_transform)\n",
    "\n",
    "# Split: 80% train, 20% val\n",
    "val_size = int(0.2 * len(train_dataset))\n",
    "train_size = len(train_dataset) - val_size\n",
    "train_dataset, val_dataset = random_split(train_dataset, [train_size, val_size])\n",
    "\n",
    "train_loader = DataLoader(train_dataset, batch_size=32, shuffle=True)\n",
    "val_loader   = DataLoader(val_dataset, batch_size=32, shuffle=False)\n",
    "\n",
    "test_dataset  = datasets.ImageFolder(r'C:\\Radiologist_helper\\datasets\\brain_mri\\Testing', transform=eval_test_transform)\n",
    "test_loader   = DataLoader(test_dataset, batch_size=32, shuffle=False)\n"
   ],
   "id": "668035e2745ab4ac",
   "outputs": [],
   "execution_count": 4
  },
  {
   "metadata": {
    "ExecuteTime": {
     "end_time": "2025-10-11T14:17:03.908473Z",
     "start_time": "2025-10-11T14:17:03.902477Z"
    }
   },
   "cell_type": "code",
   "source": [
    "train_loader = DataLoader(train_dataset, batch_size=32, shuffle=True)\n",
    "val_loader   = DataLoader(val_dataset, batch_size=32, shuffle=False)\n",
    "test_loader  = DataLoader(test_dataset, batch_size=32, shuffle=False)"
   ],
   "id": "6be92b4c7d8115a",
   "outputs": [],
   "execution_count": 5
  },
  {
   "metadata": {
    "ExecuteTime": {
     "end_time": "2025-10-11T14:17:06.140187Z",
     "start_time": "2025-10-11T14:17:06.135262Z"
    }
   },
   "cell_type": "code",
   "source": [
    "class BrainMRIResNet50(nn.Module):\n",
    "    def __init__(self, num_classes=4, dropout_rate=0.5):\n",
    "        super().__init__()\n",
    "        self.model = models.resnet50(weights='DEFAULT')\n",
    "\n",
    "        # Freeze all layers\n",
    "        for param in self.model.parameters():\n",
    "            param.requires_grad = False\n",
    "\n",
    "        # Optional: unfreeze last block (layer4)\n",
    "        for param in self.model.layer4.parameters():\n",
    "            param.requires_grad = True\n",
    "\n",
    "        # Replace fully connected layer\n",
    "        in_features = self.model.fc.in_features\n",
    "        self.model.fc = nn.Sequential(\n",
    "            nn.Dropout(dropout_rate),\n",
    "            nn.Linear(in_features, num_classes)\n",
    "        )\n",
    "\n",
    "    def forward(self, x):\n",
    "        return self.model(x)"
   ],
   "id": "b2deea58560cf303",
   "outputs": [],
   "execution_count": 6
  },
  {
   "metadata": {
    "ExecuteTime": {
     "end_time": "2025-10-11T14:17:08.635167Z",
     "start_time": "2025-10-11T14:17:08.626640Z"
    }
   },
   "cell_type": "code",
   "source": [
    "def train_model(model, criterion, optimizer, epochs=10, patience=5):\n",
    "    start = time.time()\n",
    "    best_acc = 0.0\n",
    "    best_loss = float('inf')\n",
    "    patience_counter = 0\n",
    "\n",
    "    all_labels, all_predictions = [], []\n",
    "\n",
    "    for epoch in range(epochs):\n",
    "        model.train()\n",
    "        running_loss = 0.0\n",
    "\n",
    "        for batch_num, (images, labels) in enumerate(train_loader):\n",
    "            images, labels = images.to(device), labels.to(device)\n",
    "\n",
    "            optimizer.zero_grad()\n",
    "            outputs = model(images)\n",
    "            loss = criterion(outputs, labels)\n",
    "            loss.backward()\n",
    "            optimizer.step()\n",
    "\n",
    "            running_loss += loss.item() * images.size(0)\n",
    "\n",
    "            if (batch_num + 1) % 10 == 0:\n",
    "                print(f\"Batch: {batch_num+1}, Epoch: {epoch+1}, Loss: {loss.item():.4f}\")\n",
    "\n",
    "        epoch_loss = running_loss / len(train_loader.dataset)\n",
    "        print(f\"Epoch [{epoch+1}/{epochs}] - Avg Train Loss: {epoch_loss:.4f}\")\n",
    "\n",
    "        # ---------- Validation ----------\n",
    "        model.eval()\n",
    "        correct, total = 0, 0\n",
    "        val_loss = 0.0\n",
    "        with torch.no_grad():\n",
    "            for images, labels in val_loader:\n",
    "                images, labels = images.to(device), labels.to(device)\n",
    "                outputs = model(images)\n",
    "                loss = criterion(outputs, labels)\n",
    "                val_loss += loss.item() * images.size(0)\n",
    "                _, predicted = torch.max(outputs, 1)\n",
    "                total += labels.size(0)\n",
    "                correct += (predicted == labels).sum().item()\n",
    "\n",
    "                all_labels.extend(labels.cpu().numpy())\n",
    "                all_predictions.extend(predicted.cpu().numpy())\n",
    "\n",
    "        val_loss /= len(val_loader.dataset)\n",
    "        val_acc = 100 * correct / total\n",
    "        print(f\"Validation Loss: {val_loss:.4f} | Accuracy: {val_acc:.2f}%\")\n",
    "\n",
    "        # --- Check for improvement ---\n",
    "        if val_loss < best_loss or val_acc > best_acc:\n",
    "            best_loss = val_loss\n",
    "            best_acc = val_acc\n",
    "            patience_counter = 0\n",
    "            torch.save(model.state_dict(), r'C:\\Radiologist_helper\\trained_models\\brain_mri_model.pth')\n",
    "        else:\n",
    "            patience_counter += 1\n",
    "            print(f\"No improvement. Patience: {patience_counter}/{patience}\")\n",
    "            if patience_counter >= patience:\n",
    "                break\n",
    "\n",
    "    end = time.time()\n",
    "    print(f\"\\nTraining complete in {(end - start):.2f}s\")\n",
    "    print(f\"Best Validation Accuracy: {best_acc:.2f}%\")\n",
    "\n",
    "    return all_labels, all_predictions\n"
   ],
   "id": "80d48320881a461d",
   "outputs": [],
   "execution_count": 7
  },
  {
   "metadata": {
    "ExecuteTime": {
     "end_time": "2025-10-11T14:17:12.628710Z",
     "start_time": "2025-10-11T14:17:12.151488Z"
    }
   },
   "cell_type": "code",
   "source": [
    "model = BrainMRIResNet50(num_classes=4, dropout_rate=0.5).to(device)\n",
    "criterion = nn.CrossEntropyLoss()\n",
    "optimizer = optim.Adam(filter(lambda p: p.requires_grad, model.parameters()), lr=0.0001)\n",
    "\n"
   ],
   "id": "68b5bc1c34d00023",
   "outputs": [],
   "execution_count": 8
  },
  {
   "metadata": {
    "ExecuteTime": {
     "end_time": "2025-10-11T15:32:53.993408Z",
     "start_time": "2025-10-11T14:17:16.872743Z"
    }
   },
   "cell_type": "code",
   "source": "labels, predictions = train_model(model, criterion, optimizer, epochs=10)",
   "id": "75c5586ede49afe2",
   "outputs": [
    {
     "name": "stdout",
     "output_type": "stream",
     "text": [
      "Batch: 10, Epoch: 1, Loss: 1.2964\n",
      "Batch: 20, Epoch: 1, Loss: 0.9750\n",
      "Batch: 30, Epoch: 1, Loss: 0.9076\n",
      "Batch: 40, Epoch: 1, Loss: 0.5675\n",
      "Batch: 50, Epoch: 1, Loss: 0.6022\n",
      "Batch: 60, Epoch: 1, Loss: 0.5415\n",
      "Batch: 70, Epoch: 1, Loss: 0.3455\n",
      "Batch: 80, Epoch: 1, Loss: 0.2064\n",
      "Batch: 90, Epoch: 1, Loss: 0.2885\n",
      "Batch: 100, Epoch: 1, Loss: 0.2093\n",
      "Batch: 110, Epoch: 1, Loss: 0.3202\n",
      "Batch: 120, Epoch: 1, Loss: 0.3075\n",
      "Batch: 130, Epoch: 1, Loss: 0.2877\n",
      "Batch: 140, Epoch: 1, Loss: 0.3669\n",
      "Epoch [1/10] - Avg Train Loss: 0.5158\n",
      "Validation Loss: 0.1876 | Accuracy: 93.08%\n",
      "Batch: 10, Epoch: 2, Loss: 0.2299\n",
      "Batch: 20, Epoch: 2, Loss: 0.4680\n",
      "Batch: 30, Epoch: 2, Loss: 0.3734\n",
      "Batch: 40, Epoch: 2, Loss: 0.1602\n",
      "Batch: 50, Epoch: 2, Loss: 0.3237\n",
      "Batch: 60, Epoch: 2, Loss: 0.1380\n",
      "Batch: 70, Epoch: 2, Loss: 0.0820\n",
      "Batch: 80, Epoch: 2, Loss: 0.2100\n",
      "Batch: 90, Epoch: 2, Loss: 0.2309\n",
      "Batch: 100, Epoch: 2, Loss: 0.2740\n",
      "Batch: 110, Epoch: 2, Loss: 0.1788\n",
      "Batch: 120, Epoch: 2, Loss: 0.2633\n",
      "Batch: 130, Epoch: 2, Loss: 0.1357\n",
      "Batch: 140, Epoch: 2, Loss: 0.0318\n",
      "Epoch [2/10] - Avg Train Loss: 0.1785\n",
      "Validation Loss: 0.1190 | Accuracy: 95.62%\n",
      "Batch: 10, Epoch: 3, Loss: 0.1320\n",
      "Batch: 20, Epoch: 3, Loss: 0.1057\n",
      "Batch: 30, Epoch: 3, Loss: 0.0178\n",
      "Batch: 40, Epoch: 3, Loss: 0.1454\n",
      "Batch: 50, Epoch: 3, Loss: 0.0625\n",
      "Batch: 60, Epoch: 3, Loss: 0.1365\n",
      "Batch: 70, Epoch: 3, Loss: 0.0233\n",
      "Batch: 80, Epoch: 3, Loss: 0.0624\n",
      "Batch: 90, Epoch: 3, Loss: 0.1455\n",
      "Batch: 100, Epoch: 3, Loss: 0.1388\n",
      "Batch: 110, Epoch: 3, Loss: 0.0177\n",
      "Batch: 120, Epoch: 3, Loss: 0.0601\n",
      "Batch: 130, Epoch: 3, Loss: 0.1183\n",
      "Batch: 140, Epoch: 3, Loss: 0.0402\n",
      "Epoch [3/10] - Avg Train Loss: 0.1116\n",
      "Validation Loss: 0.1085 | Accuracy: 96.76%\n",
      "Batch: 10, Epoch: 4, Loss: 0.0618\n",
      "Batch: 20, Epoch: 4, Loss: 0.0326\n",
      "Batch: 30, Epoch: 4, Loss: 0.1900\n",
      "Batch: 40, Epoch: 4, Loss: 0.1300\n",
      "Batch: 50, Epoch: 4, Loss: 0.1193\n",
      "Batch: 60, Epoch: 4, Loss: 0.1412\n",
      "Batch: 70, Epoch: 4, Loss: 0.0266\n",
      "Batch: 80, Epoch: 4, Loss: 0.1624\n",
      "Batch: 90, Epoch: 4, Loss: 0.1624\n",
      "Batch: 100, Epoch: 4, Loss: 0.1298\n",
      "Batch: 110, Epoch: 4, Loss: 0.1923\n",
      "Batch: 120, Epoch: 4, Loss: 0.0172\n",
      "Batch: 130, Epoch: 4, Loss: 0.1289\n",
      "Batch: 140, Epoch: 4, Loss: 0.0546\n",
      "Epoch [4/10] - Avg Train Loss: 0.0778\n",
      "Validation Loss: 0.0965 | Accuracy: 96.32%\n",
      "Batch: 10, Epoch: 5, Loss: 0.0436\n",
      "Batch: 20, Epoch: 5, Loss: 0.0139\n",
      "Batch: 30, Epoch: 5, Loss: 0.0366\n",
      "Batch: 40, Epoch: 5, Loss: 0.0246\n",
      "Batch: 50, Epoch: 5, Loss: 0.0337\n",
      "Batch: 60, Epoch: 5, Loss: 0.0263\n",
      "Batch: 70, Epoch: 5, Loss: 0.0600\n",
      "Batch: 80, Epoch: 5, Loss: 0.0724\n",
      "Batch: 90, Epoch: 5, Loss: 0.0204\n",
      "Batch: 100, Epoch: 5, Loss: 0.0112\n",
      "Batch: 110, Epoch: 5, Loss: 0.0084\n",
      "Batch: 120, Epoch: 5, Loss: 0.0461\n",
      "Batch: 130, Epoch: 5, Loss: 0.1424\n",
      "Batch: 140, Epoch: 5, Loss: 0.0604\n",
      "Epoch [5/10] - Avg Train Loss: 0.0571\n",
      "Validation Loss: 0.0951 | Accuracy: 96.32%\n",
      "Batch: 10, Epoch: 6, Loss: 0.0299\n",
      "Batch: 20, Epoch: 6, Loss: 0.0149\n",
      "Batch: 30, Epoch: 6, Loss: 0.0114\n",
      "Batch: 40, Epoch: 6, Loss: 0.0072\n",
      "Batch: 50, Epoch: 6, Loss: 0.0239\n",
      "Batch: 60, Epoch: 6, Loss: 0.0041\n",
      "Batch: 70, Epoch: 6, Loss: 0.0397\n",
      "Batch: 80, Epoch: 6, Loss: 0.0121\n",
      "Batch: 90, Epoch: 6, Loss: 0.0066\n",
      "Batch: 100, Epoch: 6, Loss: 0.0490\n",
      "Batch: 110, Epoch: 6, Loss: 0.0068\n",
      "Batch: 120, Epoch: 6, Loss: 0.0217\n",
      "Batch: 130, Epoch: 6, Loss: 0.0379\n",
      "Batch: 140, Epoch: 6, Loss: 0.0095\n",
      "Epoch [6/10] - Avg Train Loss: 0.0481\n",
      "Validation Loss: 0.0854 | Accuracy: 97.72%\n",
      "Batch: 10, Epoch: 7, Loss: 0.0428\n",
      "Batch: 20, Epoch: 7, Loss: 0.0261\n",
      "Batch: 30, Epoch: 7, Loss: 0.0400\n",
      "Batch: 40, Epoch: 7, Loss: 0.0058\n",
      "Batch: 50, Epoch: 7, Loss: 0.0437\n",
      "Batch: 60, Epoch: 7, Loss: 0.0094\n",
      "Batch: 70, Epoch: 7, Loss: 0.0738\n",
      "Batch: 80, Epoch: 7, Loss: 0.0067\n",
      "Batch: 90, Epoch: 7, Loss: 0.0877\n",
      "Batch: 100, Epoch: 7, Loss: 0.1630\n",
      "Batch: 110, Epoch: 7, Loss: 0.0545\n",
      "Batch: 120, Epoch: 7, Loss: 0.0154\n",
      "Batch: 130, Epoch: 7, Loss: 0.0168\n",
      "Batch: 140, Epoch: 7, Loss: 0.0046\n",
      "Epoch [7/10] - Avg Train Loss: 0.0437\n",
      "Validation Loss: 0.1004 | Accuracy: 97.02%\n",
      "No improvement. Patience: 1/5\n",
      "Batch: 10, Epoch: 8, Loss: 0.0172\n",
      "Batch: 20, Epoch: 8, Loss: 0.0205\n",
      "Batch: 30, Epoch: 8, Loss: 0.0322\n",
      "Batch: 40, Epoch: 8, Loss: 0.0148\n",
      "Batch: 50, Epoch: 8, Loss: 0.0099\n",
      "Batch: 60, Epoch: 8, Loss: 0.0187\n",
      "Batch: 70, Epoch: 8, Loss: 0.0106\n",
      "Batch: 80, Epoch: 8, Loss: 0.0088\n",
      "Batch: 90, Epoch: 8, Loss: 0.0390\n",
      "Batch: 100, Epoch: 8, Loss: 0.0261\n",
      "Batch: 110, Epoch: 8, Loss: 0.0023\n",
      "Batch: 120, Epoch: 8, Loss: 0.0249\n",
      "Batch: 130, Epoch: 8, Loss: 0.0622\n",
      "Batch: 140, Epoch: 8, Loss: 0.0023\n",
      "Epoch [8/10] - Avg Train Loss: 0.0293\n",
      "Validation Loss: 0.0703 | Accuracy: 98.34%\n",
      "Batch: 10, Epoch: 9, Loss: 0.0726\n",
      "Batch: 20, Epoch: 9, Loss: 0.0513\n",
      "Batch: 30, Epoch: 9, Loss: 0.0035\n",
      "Batch: 40, Epoch: 9, Loss: 0.0056\n",
      "Batch: 50, Epoch: 9, Loss: 0.0360\n",
      "Batch: 60, Epoch: 9, Loss: 0.0084\n",
      "Batch: 70, Epoch: 9, Loss: 0.0136\n",
      "Batch: 80, Epoch: 9, Loss: 0.0779\n",
      "Batch: 90, Epoch: 9, Loss: 0.0101\n",
      "Batch: 100, Epoch: 9, Loss: 0.0025\n",
      "Batch: 110, Epoch: 9, Loss: 0.0221\n",
      "Batch: 120, Epoch: 9, Loss: 0.0592\n",
      "Batch: 130, Epoch: 9, Loss: 0.0176\n",
      "Batch: 140, Epoch: 9, Loss: 0.0072\n",
      "Epoch [9/10] - Avg Train Loss: 0.0337\n",
      "Validation Loss: 0.0820 | Accuracy: 97.72%\n",
      "No improvement. Patience: 1/5\n",
      "Batch: 10, Epoch: 10, Loss: 0.0034\n",
      "Batch: 20, Epoch: 10, Loss: 0.0620\n",
      "Batch: 30, Epoch: 10, Loss: 0.0039\n",
      "Batch: 40, Epoch: 10, Loss: 0.0025\n",
      "Batch: 50, Epoch: 10, Loss: 0.0519\n",
      "Batch: 60, Epoch: 10, Loss: 0.0130\n",
      "Batch: 70, Epoch: 10, Loss: 0.2400\n",
      "Batch: 80, Epoch: 10, Loss: 0.0302\n",
      "Batch: 90, Epoch: 10, Loss: 0.0141\n",
      "Batch: 100, Epoch: 10, Loss: 0.0081\n",
      "Batch: 110, Epoch: 10, Loss: 0.0128\n",
      "Batch: 120, Epoch: 10, Loss: 0.0149\n",
      "Batch: 130, Epoch: 10, Loss: 0.0180\n",
      "Batch: 140, Epoch: 10, Loss: 0.0038\n",
      "Epoch [10/10] - Avg Train Loss: 0.0287\n",
      "Validation Loss: 0.0868 | Accuracy: 97.81%\n",
      "No improvement. Patience: 2/5\n",
      "\n",
      "Training complete in 4537.11s\n",
      "Best Validation Accuracy: 98.34%\n"
     ]
    }
   ],
   "execution_count": 9
  },
  {
   "metadata": {
    "ExecuteTime": {
     "end_time": "2025-10-11T15:34:24.054181Z",
     "start_time": "2025-10-11T15:34:20.224644Z"
    }
   },
   "cell_type": "code",
   "source": [
    "from sklearn.metrics import classification_report\n",
    "\n",
    "report = classification_report(labels, predictions)\n",
    "print(report)"
   ],
   "id": "2cd549c84d993275",
   "outputs": [
    {
     "name": "stdout",
     "output_type": "stream",
     "text": [
      "              precision    recall  f1-score   support\n",
      "\n",
      "           0       0.97      0.95      0.96      2730\n",
      "           1       0.93      0.94      0.94      2670\n",
      "           2       0.98      0.99      0.99      2990\n",
      "           3       0.98      0.98      0.98      3030\n",
      "\n",
      "    accuracy                           0.97     11420\n",
      "   macro avg       0.97      0.97      0.97     11420\n",
      "weighted avg       0.97      0.97      0.97     11420\n",
      "\n"
     ]
    }
   ],
   "execution_count": 10
  },
  {
   "metadata": {
    "ExecuteTime": {
     "end_time": "2025-10-11T15:36:32.942870Z",
     "start_time": "2025-10-11T15:36:32.937472Z"
    }
   },
   "cell_type": "code",
   "source": [
    "def evaluate_test(model, test_loader, model_path=r'C:\\Radiologist_helper\\trained_models\\brain_mri_model.pth'):\n",
    "    device = next(model.parameters()).device\n",
    "    model.load_state_dict(torch.load(model_path, map_location=device))\n",
    "    model.eval()\n",
    "\n",
    "    correct = 0\n",
    "    total = 0\n",
    "\n",
    "    with torch.no_grad():\n",
    "        for images, labels in test_loader:\n",
    "            images, labels = images.to(device), labels.to(device).float().unsqueeze(1)\n",
    "            outputs = model(images)\n",
    "            probs = torch.sigmoid(outputs)\n",
    "            preds = (probs > 0.5).int()\n",
    "\n",
    "            total += labels.size(0)\n",
    "            correct += (preds == labels.int()).sum().item()\n",
    "\n",
    "    test_acc = 100 * correct / total\n",
    "    print(f\"*** Test Accuracy: {test_acc:.2f}% ***\")\n",
    "    return test_acc"
   ],
   "id": "3295cd08f4c884c4",
   "outputs": [],
   "execution_count": 13
  },
  {
   "metadata": {
    "ExecuteTime": {
     "end_time": "2025-10-11T15:37:56.202148Z",
     "start_time": "2025-10-11T15:36:39.061995Z"
    }
   },
   "cell_type": "code",
   "source": [
    "test_acc = evaluate_test(model, test_loader)\n",
    "print(f\"*** Test Accuracy: {test_acc:.2f}% ***\")"
   ],
   "id": "33f8e934d00bbf88",
   "outputs": [
    {
     "name": "stdout",
     "output_type": "stream",
     "text": [
      "*** Test Accuracy: 90.31% ***\n",
      "*** Test Accuracy: 90.31% ***\n"
     ]
    }
   ],
   "execution_count": 14
  }
 ],
 "metadata": {
  "kernelspec": {
   "display_name": "Python 3",
   "language": "python",
   "name": "python3"
  },
  "language_info": {
   "codemirror_mode": {
    "name": "ipython",
    "version": 2
   },
   "file_extension": ".py",
   "mimetype": "text/x-python",
   "name": "python",
   "nbconvert_exporter": "python",
   "pygments_lexer": "ipython2",
   "version": "2.7.6"
  }
 },
 "nbformat": 4,
 "nbformat_minor": 5
}
