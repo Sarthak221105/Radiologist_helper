{
 "cells": [
  {
   "cell_type": "code",
   "id": "initial_id",
   "metadata": {
    "collapsed": true,
    "ExecuteTime": {
     "end_time": "2025-10-13T07:22:12.101200Z",
     "start_time": "2025-10-13T07:21:58.400336Z"
    }
   },
   "source": [
    "import os\n",
    "from torchvision import datasets, transforms\n",
    "from torch.utils.data import DataLoader\n",
    "import torch\n",
    "import torch.nn as nn\n",
    "import torch.optim as optim\n",
    "import torch.nn.functional as F\n",
    "import time\n",
    "import torchvision.models as models\n",
    "from matplotlib import pyplot as plt"
   ],
   "outputs": [],
   "execution_count": 1
  },
  {
   "metadata": {
    "ExecuteTime": {
     "end_time": "2025-10-13T07:22:15.081020Z",
     "start_time": "2025-10-13T07:22:15.059624Z"
    }
   },
   "cell_type": "code",
   "source": [
    "device = torch.device(\"cuda\" if torch.cuda.is_available() else \"cpu\")\n",
    "device"
   ],
   "id": "87fd9d1a23755716",
   "outputs": [
    {
     "data": {
      "text/plain": [
       "device(type='cpu')"
      ]
     },
     "execution_count": 2,
     "metadata": {},
     "output_type": "execute_result"
    }
   ],
   "execution_count": 2
  },
  {
   "metadata": {
    "ExecuteTime": {
     "end_time": "2025-10-13T07:22:38.863176Z",
     "start_time": "2025-10-13T07:22:38.847843Z"
    }
   },
   "cell_type": "code",
   "source": [
    "train_transform = transforms.Compose([\n",
    "    transforms.Resize((224,224)),\n",
    "    transforms.Grayscale(num_output_channels=3),\n",
    "    transforms.RandomHorizontalFlip(),\n",
    "    transforms.RandomRotation(10),\n",
    "    transforms.ColorJitter(brightness=0.2, contrast=0.2),\n",
    "    transforms.ToTensor(),\n",
    "    transforms.Normalize([0.485,0.456,0.406],[0.229,0.224,0.225])\n",
    "])\n",
    "\n",
    "val_test_transform = transforms.Compose([\n",
    "    transforms.Resize((224,224)),\n",
    "    transforms.ToTensor(),\n",
    "    transforms.Normalize([0.485,0.456,0.406],[0.229,0.224,0.225])\n",
    "])"
   ],
   "id": "8a8339d7498c8b4",
   "outputs": [],
   "execution_count": 4
  },
  {
   "metadata": {
    "ExecuteTime": {
     "end_time": "2025-10-13T07:22:53.554862Z",
     "start_time": "2025-10-13T07:22:53.479311Z"
    }
   },
   "cell_type": "code",
   "source": [
    "train_dataset = datasets.ImageFolder(\n",
    "    r'C:\\Radiologist_helper\\datasets\\chest_xray\\train',\n",
    "    transform=train_transform\n",
    ")\n",
    "\n",
    "val_dataset = datasets.ImageFolder(r'C:\\Radiologist_helper\\datasets\\chest_xray\\val', transform=val_test_transform)\n",
    "test_dataset = datasets.ImageFolder(r'C:\\Radiologist_helper\\datasets\\chest_xray\\test', transform=val_test_transform)"
   ],
   "id": "c65abb5ef378f6d0",
   "outputs": [],
   "execution_count": 6
  },
  {
   "metadata": {
    "ExecuteTime": {
     "end_time": "2025-10-13T07:22:56.855113Z",
     "start_time": "2025-10-13T07:22:56.844377Z"
    }
   },
   "cell_type": "code",
   "source": [
    "train_loader = DataLoader(train_dataset, batch_size=32, shuffle=True)\n",
    "val_loader = DataLoader(val_dataset, batch_size=32, shuffle=True)\n",
    "test_loader = DataLoader(test_dataset, batch_size=32, shuffle=True)\n",
    "\n"
   ],
   "id": "abffe73de42129a8",
   "outputs": [],
   "execution_count": 7
  },
  {
   "metadata": {
    "ExecuteTime": {
     "end_time": "2025-10-13T07:29:35.367513Z",
     "start_time": "2025-10-13T07:29:35.359573Z"
    }
   },
   "cell_type": "code",
   "source": [
    "\n",
    "learning_rate = 1e-4\n",
    "num_classes = 2"
   ],
   "id": "8aa80d45c2c746bc",
   "outputs": [],
   "execution_count": 9
  },
  {
   "metadata": {
    "ExecuteTime": {
     "end_time": "2025-10-13T07:29:05.928648Z",
     "start_time": "2025-10-13T07:29:05.914278Z"
    }
   },
   "cell_type": "code",
   "source": [
    "class XrayResNet50(nn.Module):\n",
    "    def __init__(self, num_classes=2, dropout_rate=0.5):\n",
    "        super().__init__()\n",
    "        self.model = models.resnet50(weights='DEFAULT')\n",
    "\n",
    "        # Freeze all layers\n",
    "        for param in self.model.parameters():\n",
    "            param.requires_grad = False\n",
    "\n",
    "        # Optional: unfreeze last block (layer4)\n",
    "        for param in self.model.layer4.parameters():\n",
    "            param.requires_grad = True\n",
    "\n",
    "        # Replace fully connected layer\n",
    "        in_features = self.model.fc.in_features\n",
    "        self.model.fc = nn.Sequential(\n",
    "            nn.Dropout(dropout_rate),\n",
    "            nn.Linear(in_features, num_classes)\n",
    "        )\n",
    "\n",
    "    def forward(self, x):\n",
    "        return self.model(x)"
   ],
   "id": "210bb43e09d81f7c",
   "outputs": [],
   "execution_count": 8
  },
  {
   "metadata": {
    "ExecuteTime": {
     "end_time": "2025-10-13T07:29:50.294335Z",
     "start_time": "2025-10-13T07:29:49.236885Z"
    }
   },
   "cell_type": "code",
   "source": [
    "model = XrayResNet50(num_classes=num_classes).to(device)\n",
    "criterion = nn.CrossEntropyLoss()\n",
    "optimizer = optim.Adam(filter(lambda p: p.requires_grad, model.parameters()), lr=learning_rate)"
   ],
   "id": "55080426089d9c59",
   "outputs": [],
   "execution_count": 10
  },
  {
   "metadata": {
    "ExecuteTime": {
     "end_time": "2025-10-13T07:31:03.079690Z",
     "start_time": "2025-10-13T07:31:03.055219Z"
    }
   },
   "cell_type": "code",
   "source": [
    "\n",
    "def train_model(model, criterion, optimizer, epochs=10, patience=5, save_path=r\"C:\\Radiologist_helper\\trained_models\\chest_xray_model.pth\"):\n",
    "    start = time.time()\n",
    "    best_acc = 0.0\n",
    "    best_loss = float('inf')\n",
    "    patience_counter = 0\n",
    "\n",
    "    all_labels, all_predictions = [], []\n",
    "\n",
    "    for epoch in range(epochs):\n",
    "        model.train()\n",
    "        running_loss = 0.0\n",
    "\n",
    "        for batch_num, (images, labels) in enumerate(train_loader):\n",
    "            images, labels = images.to(device), labels.to(device)\n",
    "\n",
    "            optimizer.zero_grad()\n",
    "            outputs = model(images)\n",
    "            loss = criterion(outputs, labels)\n",
    "            loss.backward()\n",
    "            optimizer.step()\n",
    "\n",
    "            running_loss += loss.item() * images.size(0)\n",
    "\n",
    "            if (batch_num + 1) % 10 == 0:\n",
    "                print(f\"Batch: {batch_num+1}, Epoch: {epoch+1}, Loss: {loss.item():.4f}\")\n",
    "\n",
    "        epoch_loss = running_loss / len(train_loader.dataset)\n",
    "        print(f\"Epoch [{epoch+1}/{epochs}] - Avg Train Loss: {epoch_loss:.4f}\")\n",
    "\n",
    "        # ---------- Validation ----------\n",
    "        model.eval()\n",
    "        correct, total = 0, 0\n",
    "        val_loss = 0.0\n",
    "        with torch.no_grad():\n",
    "            for images, labels in val_loader:\n",
    "                images, labels = images.to(device), labels.to(device)\n",
    "                outputs = model(images)\n",
    "                loss = criterion(outputs, labels)\n",
    "                val_loss += loss.item() * images.size(0)\n",
    "                _, predicted = torch.max(outputs, 1)\n",
    "                total += labels.size(0)\n",
    "                correct += (predicted == labels).sum().item()\n",
    "\n",
    "                all_labels.extend(labels.cpu().numpy())\n",
    "                all_predictions.extend(predicted.cpu().numpy())\n",
    "\n",
    "        val_loss /= len(val_loader.dataset)\n",
    "        val_acc = 100 * correct / total\n",
    "        print(f\"Validation Loss: {val_loss:.4f} | Accuracy: {val_acc:.2f}%\")\n",
    "\n",
    "        # --- Early stopping and save ---\n",
    "        if val_loss < best_loss:\n",
    "            best_loss = val_loss\n",
    "            best_acc = val_acc\n",
    "            patience_counter = 0\n",
    "            torch.save(model.state_dict(), save_path)\n",
    "            print(f\"Best model saved at epoch {epoch+1}\")\n",
    "        else:\n",
    "            patience_counter += 1\n",
    "            print(f\"No improvement. Patience: {patience_counter}/{patience}\")\n",
    "            if patience_counter >= patience:\n",
    "                break\n",
    "\n",
    "    end = time.time()\n",
    "    print(f\"\\nTraining complete in {(end - start):.2f}s\")\n",
    "    print(f\"Best Validation Accuracy: {best_acc:.2f}%\")\n",
    "\n",
    "    return all_labels, all_predictions"
   ],
   "id": "f2766ec8f60a35ff",
   "outputs": [],
   "execution_count": 11
  },
  {
   "metadata": {
    "ExecuteTime": {
     "end_time": "2025-10-13T08:59:19.998703Z",
     "start_time": "2025-10-13T07:31:31.787432Z"
    }
   },
   "cell_type": "code",
   "source": "all_labels, all_predictions = train_model(model, criterion, optimizer, epochs=10)",
   "id": "a86f10cafdebeac9",
   "outputs": [
    {
     "name": "stdout",
     "output_type": "stream",
     "text": [
      "Batch: 10, Epoch: 1, Loss: 0.4983\n",
      "Batch: 20, Epoch: 1, Loss: 0.3323\n",
      "Batch: 30, Epoch: 1, Loss: 0.2780\n",
      "Batch: 40, Epoch: 1, Loss: 0.2242\n",
      "Batch: 50, Epoch: 1, Loss: 0.1196\n",
      "Batch: 60, Epoch: 1, Loss: 0.2007\n",
      "Batch: 70, Epoch: 1, Loss: 0.0700\n",
      "Batch: 80, Epoch: 1, Loss: 0.2682\n",
      "Batch: 90, Epoch: 1, Loss: 0.2399\n",
      "Batch: 100, Epoch: 1, Loss: 0.1335\n",
      "Batch: 110, Epoch: 1, Loss: 0.0602\n",
      "Batch: 120, Epoch: 1, Loss: 0.0991\n",
      "Batch: 130, Epoch: 1, Loss: 0.0931\n",
      "Batch: 140, Epoch: 1, Loss: 0.1119\n",
      "Batch: 150, Epoch: 1, Loss: 0.2204\n",
      "Batch: 160, Epoch: 1, Loss: 0.1459\n",
      "Epoch [1/10] - Avg Train Loss: 0.2128\n",
      "Validation Loss: 0.3583 | Accuracy: 75.00%\n",
      "Best model saved at epoch 1\n",
      "Batch: 10, Epoch: 2, Loss: 0.1033\n",
      "Batch: 20, Epoch: 2, Loss: 0.1095\n",
      "Batch: 30, Epoch: 2, Loss: 0.2245\n",
      "Batch: 40, Epoch: 2, Loss: 0.0524\n",
      "Batch: 50, Epoch: 2, Loss: 0.1504\n",
      "Batch: 60, Epoch: 2, Loss: 0.1176\n",
      "Batch: 70, Epoch: 2, Loss: 0.1957\n",
      "Batch: 80, Epoch: 2, Loss: 0.0459\n",
      "Batch: 90, Epoch: 2, Loss: 0.1023\n",
      "Batch: 100, Epoch: 2, Loss: 0.0808\n",
      "Batch: 110, Epoch: 2, Loss: 0.0216\n",
      "Batch: 120, Epoch: 2, Loss: 0.0248\n",
      "Batch: 130, Epoch: 2, Loss: 0.0637\n",
      "Batch: 140, Epoch: 2, Loss: 0.0977\n",
      "Batch: 150, Epoch: 2, Loss: 0.1190\n",
      "Batch: 160, Epoch: 2, Loss: 0.0319\n",
      "Epoch [2/10] - Avg Train Loss: 0.0999\n",
      "Validation Loss: 0.2811 | Accuracy: 87.50%\n",
      "Best model saved at epoch 2\n",
      "Batch: 10, Epoch: 3, Loss: 0.0657\n",
      "Batch: 20, Epoch: 3, Loss: 0.0914\n",
      "Batch: 30, Epoch: 3, Loss: 0.2799\n",
      "Batch: 40, Epoch: 3, Loss: 0.0437\n",
      "Batch: 50, Epoch: 3, Loss: 0.0939\n",
      "Batch: 60, Epoch: 3, Loss: 0.0787\n",
      "Batch: 70, Epoch: 3, Loss: 0.0307\n",
      "Batch: 80, Epoch: 3, Loss: 0.0298\n",
      "Batch: 90, Epoch: 3, Loss: 0.0933\n",
      "Batch: 100, Epoch: 3, Loss: 0.1017\n",
      "Batch: 110, Epoch: 3, Loss: 0.0901\n",
      "Batch: 120, Epoch: 3, Loss: 0.0841\n",
      "Batch: 130, Epoch: 3, Loss: 0.1389\n",
      "Batch: 140, Epoch: 3, Loss: 0.0109\n",
      "Batch: 150, Epoch: 3, Loss: 0.1493\n",
      "Batch: 160, Epoch: 3, Loss: 0.0807\n",
      "Epoch [3/10] - Avg Train Loss: 0.0701\n",
      "Validation Loss: 0.1981 | Accuracy: 93.75%\n",
      "Best model saved at epoch 3\n",
      "Batch: 10, Epoch: 4, Loss: 0.0070\n",
      "Batch: 20, Epoch: 4, Loss: 0.0247\n",
      "Batch: 30, Epoch: 4, Loss: 0.0844\n",
      "Batch: 40, Epoch: 4, Loss: 0.0098\n",
      "Batch: 50, Epoch: 4, Loss: 0.2205\n",
      "Batch: 60, Epoch: 4, Loss: 0.0545\n",
      "Batch: 70, Epoch: 4, Loss: 0.0288\n",
      "Batch: 80, Epoch: 4, Loss: 0.0374\n",
      "Batch: 90, Epoch: 4, Loss: 0.0206\n",
      "Batch: 100, Epoch: 4, Loss: 0.0161\n",
      "Batch: 110, Epoch: 4, Loss: 0.0207\n",
      "Batch: 120, Epoch: 4, Loss: 0.0347\n",
      "Batch: 130, Epoch: 4, Loss: 0.0109\n",
      "Batch: 140, Epoch: 4, Loss: 0.0981\n",
      "Batch: 150, Epoch: 4, Loss: 0.0884\n",
      "Batch: 160, Epoch: 4, Loss: 0.0665\n",
      "Epoch [4/10] - Avg Train Loss: 0.0650\n",
      "Validation Loss: 0.1564 | Accuracy: 93.75%\n",
      "Best model saved at epoch 4\n",
      "Batch: 10, Epoch: 5, Loss: 0.1297\n",
      "Batch: 20, Epoch: 5, Loss: 0.0066\n",
      "Batch: 30, Epoch: 5, Loss: 0.0304\n",
      "Batch: 40, Epoch: 5, Loss: 0.0414\n",
      "Batch: 50, Epoch: 5, Loss: 0.0711\n",
      "Batch: 60, Epoch: 5, Loss: 0.2171\n",
      "Batch: 70, Epoch: 5, Loss: 0.0156\n",
      "Batch: 80, Epoch: 5, Loss: 0.0642\n",
      "Batch: 90, Epoch: 5, Loss: 0.0931\n",
      "Batch: 100, Epoch: 5, Loss: 0.0241\n",
      "Batch: 110, Epoch: 5, Loss: 0.0153\n",
      "Batch: 120, Epoch: 5, Loss: 0.0126\n",
      "Batch: 130, Epoch: 5, Loss: 0.0080\n",
      "Batch: 140, Epoch: 5, Loss: 0.0107\n",
      "Batch: 150, Epoch: 5, Loss: 0.0179\n",
      "Batch: 160, Epoch: 5, Loss: 0.0189\n",
      "Epoch [5/10] - Avg Train Loss: 0.0548\n",
      "Validation Loss: 0.1919 | Accuracy: 87.50%\n",
      "No improvement. Patience: 1/5\n",
      "Batch: 10, Epoch: 6, Loss: 0.0061\n",
      "Batch: 20, Epoch: 6, Loss: 0.0022\n",
      "Batch: 30, Epoch: 6, Loss: 0.0091\n",
      "Batch: 40, Epoch: 6, Loss: 0.0649\n",
      "Batch: 50, Epoch: 6, Loss: 0.0262\n",
      "Batch: 60, Epoch: 6, Loss: 0.0102\n",
      "Batch: 70, Epoch: 6, Loss: 0.0059\n",
      "Batch: 80, Epoch: 6, Loss: 0.0343\n",
      "Batch: 90, Epoch: 6, Loss: 0.0959\n",
      "Batch: 100, Epoch: 6, Loss: 0.0278\n",
      "Batch: 110, Epoch: 6, Loss: 0.0109\n",
      "Batch: 120, Epoch: 6, Loss: 0.0596\n",
      "Batch: 130, Epoch: 6, Loss: 0.0393\n",
      "Batch: 140, Epoch: 6, Loss: 0.0298\n",
      "Batch: 150, Epoch: 6, Loss: 0.0589\n",
      "Batch: 160, Epoch: 6, Loss: 0.0263\n",
      "Epoch [6/10] - Avg Train Loss: 0.0391\n",
      "Validation Loss: 0.0401 | Accuracy: 100.00%\n",
      "Best model saved at epoch 6\n",
      "Batch: 10, Epoch: 7, Loss: 0.0222\n",
      "Batch: 20, Epoch: 7, Loss: 0.0053\n",
      "Batch: 30, Epoch: 7, Loss: 0.0314\n",
      "Batch: 40, Epoch: 7, Loss: 0.0163\n",
      "Batch: 50, Epoch: 7, Loss: 0.0684\n",
      "Batch: 60, Epoch: 7, Loss: 0.0174\n",
      "Batch: 70, Epoch: 7, Loss: 0.0353\n",
      "Batch: 80, Epoch: 7, Loss: 0.0658\n",
      "Batch: 90, Epoch: 7, Loss: 0.0106\n",
      "Batch: 100, Epoch: 7, Loss: 0.0416\n",
      "Batch: 110, Epoch: 7, Loss: 0.0083\n",
      "Batch: 120, Epoch: 7, Loss: 0.0069\n",
      "Batch: 130, Epoch: 7, Loss: 0.0933\n",
      "Batch: 140, Epoch: 7, Loss: 0.0949\n",
      "Batch: 150, Epoch: 7, Loss: 0.0196\n",
      "Batch: 160, Epoch: 7, Loss: 0.0166\n",
      "Epoch [7/10] - Avg Train Loss: 0.0444\n",
      "Validation Loss: 0.1370 | Accuracy: 93.75%\n",
      "No improvement. Patience: 1/5\n",
      "Batch: 10, Epoch: 8, Loss: 0.1701\n",
      "Batch: 20, Epoch: 8, Loss: 0.0415\n",
      "Batch: 30, Epoch: 8, Loss: 0.0246\n",
      "Batch: 40, Epoch: 8, Loss: 0.0032\n",
      "Batch: 50, Epoch: 8, Loss: 0.0113\n",
      "Batch: 60, Epoch: 8, Loss: 0.0320\n",
      "Batch: 70, Epoch: 8, Loss: 0.0318\n",
      "Batch: 80, Epoch: 8, Loss: 0.0223\n",
      "Batch: 90, Epoch: 8, Loss: 0.0271\n",
      "Batch: 100, Epoch: 8, Loss: 0.0349\n",
      "Batch: 110, Epoch: 8, Loss: 0.0547\n",
      "Batch: 120, Epoch: 8, Loss: 0.0032\n",
      "Batch: 130, Epoch: 8, Loss: 0.0281\n",
      "Batch: 140, Epoch: 8, Loss: 0.0205\n",
      "Batch: 150, Epoch: 8, Loss: 0.0084\n",
      "Batch: 160, Epoch: 8, Loss: 0.0300\n",
      "Epoch [8/10] - Avg Train Loss: 0.0283\n",
      "Validation Loss: 0.5848 | Accuracy: 75.00%\n",
      "No improvement. Patience: 2/5\n",
      "Batch: 10, Epoch: 9, Loss: 0.0067\n",
      "Batch: 20, Epoch: 9, Loss: 0.0551\n",
      "Batch: 30, Epoch: 9, Loss: 0.0110\n",
      "Batch: 40, Epoch: 9, Loss: 0.0054\n",
      "Batch: 50, Epoch: 9, Loss: 0.0084\n",
      "Batch: 60, Epoch: 9, Loss: 0.0448\n",
      "Batch: 70, Epoch: 9, Loss: 0.0082\n",
      "Batch: 80, Epoch: 9, Loss: 0.0062\n",
      "Batch: 90, Epoch: 9, Loss: 0.0025\n",
      "Batch: 100, Epoch: 9, Loss: 0.0217\n",
      "Batch: 110, Epoch: 9, Loss: 0.0382\n",
      "Batch: 120, Epoch: 9, Loss: 0.0563\n",
      "Batch: 130, Epoch: 9, Loss: 0.0109\n",
      "Batch: 140, Epoch: 9, Loss: 0.3328\n",
      "Batch: 150, Epoch: 9, Loss: 0.0460\n",
      "Batch: 160, Epoch: 9, Loss: 0.0068\n",
      "Epoch [9/10] - Avg Train Loss: 0.0326\n",
      "Validation Loss: 0.2276 | Accuracy: 93.75%\n",
      "No improvement. Patience: 3/5\n",
      "Batch: 10, Epoch: 10, Loss: 0.0367\n",
      "Batch: 20, Epoch: 10, Loss: 0.0046\n",
      "Batch: 30, Epoch: 10, Loss: 0.0064\n",
      "Batch: 40, Epoch: 10, Loss: 0.0057\n",
      "Batch: 50, Epoch: 10, Loss: 0.0813\n",
      "Batch: 60, Epoch: 10, Loss: 0.0049\n",
      "Batch: 70, Epoch: 10, Loss: 0.0060\n",
      "Batch: 80, Epoch: 10, Loss: 0.0080\n",
      "Batch: 90, Epoch: 10, Loss: 0.0006\n",
      "Batch: 100, Epoch: 10, Loss: 0.0500\n",
      "Batch: 110, Epoch: 10, Loss: 0.0673\n",
      "Batch: 120, Epoch: 10, Loss: 0.0472\n",
      "Batch: 130, Epoch: 10, Loss: 0.0287\n",
      "Batch: 140, Epoch: 10, Loss: 0.0196\n",
      "Batch: 150, Epoch: 10, Loss: 0.0118\n",
      "Batch: 160, Epoch: 10, Loss: 0.0388\n",
      "Epoch [10/10] - Avg Train Loss: 0.0282\n",
      "Validation Loss: 0.8383 | Accuracy: 81.25%\n",
      "No improvement. Patience: 4/5\n",
      "\n",
      "Training complete in 5268.20s\n",
      "Best Validation Accuracy: 100.00%\n"
     ]
    }
   ],
   "execution_count": 13
  },
  {
   "metadata": {
    "ExecuteTime": {
     "end_time": "2025-10-13T09:03:30.240605Z",
     "start_time": "2025-10-13T09:03:20.502582Z"
    }
   },
   "cell_type": "code",
   "source": [
    "from sklearn.metrics import classification_report\n",
    "\n",
    "report = classification_report(all_labels, all_predictions)\n",
    "print(report)"
   ],
   "id": "7c60f7989bb6aff1",
   "outputs": [
    {
     "name": "stdout",
     "output_type": "stream",
     "text": [
      "              precision    recall  f1-score   support\n",
      "\n",
      "           0       1.00      0.76      0.87        80\n",
      "           1       0.81      1.00      0.89        80\n",
      "\n",
      "    accuracy                           0.88       160\n",
      "   macro avg       0.90      0.88      0.88       160\n",
      "weighted avg       0.90      0.88      0.88       160\n",
      "\n"
     ]
    }
   ],
   "execution_count": 14
  },
  {
   "metadata": {
    "ExecuteTime": {
     "end_time": "2025-10-11T06:03:39.655059Z",
     "start_time": "2025-10-11T06:03:39.588376Z"
    }
   },
   "cell_type": "code",
   "source": [
    "torch.save(model.state_dict(), r'C:\\Radiologist_helper\\trained_models\\chest_xray_model.pth')\n",
    "print(\"Model saved successfully!\")"
   ],
   "id": "1a85a8bc88e9d402",
   "outputs": [
    {
     "name": "stdout",
     "output_type": "stream",
     "text": [
      "Model saved successfully!\n"
     ]
    }
   ],
   "execution_count": 16
  },
  {
   "metadata": {
    "ExecuteTime": {
     "end_time": "2025-10-13T09:03:43.275243Z",
     "start_time": "2025-10-13T09:03:43.269262Z"
    }
   },
   "cell_type": "code",
   "source": [
    "def evaluate_test(model, test_loader, model_path=r'C:\\Radiologist_helper\\trained_models\\chest_xray_model.pth'):\n",
    "    device = next(model.parameters()).device\n",
    "    model.load_state_dict(torch.load(model_path, map_location=device))\n",
    "    model.eval()\n",
    "\n",
    "    correct = 0\n",
    "    total = 0\n",
    "\n",
    "    with torch.no_grad():\n",
    "        for images, labels in test_loader:\n",
    "            images, labels = images.to(device), labels.to(device).float().unsqueeze(1)\n",
    "            outputs = model(images)\n",
    "            probs = torch.sigmoid(outputs)\n",
    "            preds = (probs > 0.5).int()\n",
    "\n",
    "            total += labels.size(0)\n",
    "            correct += (preds == labels.int()).sum().item()\n",
    "\n",
    "    test_acc = 100 * correct / total\n",
    "    print(f\"*** Test Accuracy: {test_acc:.2f}% ***\")\n",
    "    return test_acc\n"
   ],
   "id": "cc099ae27bc88541",
   "outputs": [],
   "execution_count": 15
  },
  {
   "metadata": {
    "ExecuteTime": {
     "end_time": "2025-10-13T09:05:40.586003Z",
     "start_time": "2025-10-13T09:04:53.011890Z"
    }
   },
   "cell_type": "code",
   "source": [
    "test_acc = evaluate_test(model, test_loader)\n",
    "print(f\"*** Test Accuracy: {test_acc:.2f}% ***\")"
   ],
   "id": "10be92c49cad7b99",
   "outputs": [
    {
     "name": "stdout",
     "output_type": "stream",
     "text": [
      "*** Test Accuracy: 99.84% ***\n",
      "*** Test Accuracy: 99.84% ***\n"
     ]
    }
   ],
   "execution_count": 18
  }
 ],
 "metadata": {
  "kernelspec": {
   "display_name": "Python 3",
   "language": "python",
   "name": "python3"
  },
  "language_info": {
   "codemirror_mode": {
    "name": "ipython",
    "version": 2
   },
   "file_extension": ".py",
   "mimetype": "text/x-python",
   "name": "python",
   "nbconvert_exporter": "python",
   "pygments_lexer": "ipython2",
   "version": "2.7.6"
  }
 },
 "nbformat": 4,
 "nbformat_minor": 5
}
