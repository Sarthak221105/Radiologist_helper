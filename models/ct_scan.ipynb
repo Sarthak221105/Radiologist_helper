{
 "cells": [
  {
   "cell_type": "code",
   "id": "initial_id",
   "metadata": {
    "collapsed": true,
    "ExecuteTime": {
     "end_time": "2025-10-13T08:06:27.658245Z",
     "start_time": "2025-10-13T08:06:16.016006Z"
    }
   },
   "source": [
    "import os\n",
    "from torchvision import datasets, transforms\n",
    "from torch.utils.data import DataLoader\n",
    "import torch\n",
    "import torch.nn as nn\n",
    "import torch.optim as optim\n",
    "import torch.nn.functional as F\n",
    "import time\n",
    "import torchvision.models as models\n",
    "from matplotlib import pyplot as plt"
   ],
   "outputs": [],
   "execution_count": 1
  },
  {
   "metadata": {
    "ExecuteTime": {
     "end_time": "2025-10-13T08:06:29.606884Z",
     "start_time": "2025-10-13T08:06:29.596188Z"
    }
   },
   "cell_type": "code",
   "source": [
    "device = torch.device(\"cuda\" if torch.cuda.is_available() else \"cpu\")\n",
    "device"
   ],
   "id": "d08da0a62bec856a",
   "outputs": [
    {
     "data": {
      "text/plain": [
       "device(type='cpu')"
      ]
     },
     "execution_count": 2,
     "metadata": {},
     "output_type": "execute_result"
    }
   ],
   "execution_count": 2
  },
  {
   "metadata": {
    "ExecuteTime": {
     "end_time": "2025-10-13T08:06:31.162762Z",
     "start_time": "2025-10-13T08:06:31.143219Z"
    }
   },
   "cell_type": "code",
   "source": [
    "train_transform = transforms.Compose([\n",
    "    transforms.Resize((224,224)),\n",
    "    transforms.Grayscale(num_output_channels=3),\n",
    "    transforms.RandomHorizontalFlip(),\n",
    "    transforms.RandomRotation(10),\n",
    "    transforms.ColorJitter(brightness=0.2, contrast=0.2),\n",
    "    transforms.ToTensor(),\n",
    "    transforms.Normalize([0.485,0.456,0.406],[0.229,0.224,0.225])\n",
    "])\n",
    "\n",
    "val_test_transform = transforms.Compose([\n",
    "    transforms.Resize((224,224)),\n",
    "    transforms.ToTensor(),\n",
    "    transforms.Normalize([0.485,0.456,0.406],[0.229,0.224,0.225])\n",
    "])"
   ],
   "id": "2726e9d614ba5cd7",
   "outputs": [],
   "execution_count": 3
  },
  {
   "metadata": {
    "ExecuteTime": {
     "end_time": "2025-10-13T08:06:34.990601Z",
     "start_time": "2025-10-13T08:06:34.933502Z"
    }
   },
   "cell_type": "code",
   "source": [
    "train_dataset = datasets.ImageFolder(\n",
    "    r'C:\\Radiologist_helper\\datasets\\ct_scan\\train',\n",
    "    transform=train_transform\n",
    ")\n",
    "\n",
    "val_dataset = datasets.ImageFolder(r'C:\\Radiologist_helper\\datasets\\ct_scan\\valid', transform=val_test_transform)\n",
    "test_dataset = datasets.ImageFolder(r'C:\\Radiologist_helper\\datasets\\ct_scan\\test', transform=val_test_transform)"
   ],
   "id": "2f02a32f0525ef89",
   "outputs": [],
   "execution_count": 4
  },
  {
   "metadata": {
    "ExecuteTime": {
     "end_time": "2025-10-13T08:06:37.414448Z",
     "start_time": "2025-10-13T08:06:37.403806Z"
    }
   },
   "cell_type": "code",
   "source": [
    "train_loader = DataLoader(train_dataset, batch_size=32, shuffle=True)\n",
    "val_loader = DataLoader(val_dataset, batch_size=32, shuffle=False)\n",
    "test_loader = DataLoader(test_dataset, batch_size=32, shuffle=False)\n"
   ],
   "id": "2d8fa4381ff8321e",
   "outputs": [],
   "execution_count": 5
  },
  {
   "metadata": {
    "ExecuteTime": {
     "end_time": "2025-10-13T08:06:41.634477Z",
     "start_time": "2025-10-13T08:06:41.626128Z"
    }
   },
   "cell_type": "code",
   "source": [
    "class CTScanResNet50(nn.Module):\n",
    "    def __init__(self, num_classes=4, dropout_rate=0.4):\n",
    "        super().__init__()\n",
    "        self.model = models.resnet50(weights='DEFAULT')\n",
    "\n",
    "        # Freeze all layers\n",
    "        for param in self.model.parameters():\n",
    "            param.requires_grad = False\n",
    "\n",
    "        # Optional: unfreeze last block (layer4)\n",
    "        for param in self.model.layer4.parameters():\n",
    "            param.requires_grad = True\n",
    "\n",
    "        # Replace fully connected layer\n",
    "        in_features = self.model.fc.in_features\n",
    "        self.model.fc = nn.Sequential(\n",
    "            nn.Dropout(dropout_rate),\n",
    "            nn.Linear(in_features, num_classes)\n",
    "        )\n",
    "\n",
    "    def forward(self, x):\n",
    "        return self.model(x)"
   ],
   "id": "72f3dce7d9b6d142",
   "outputs": [],
   "execution_count": 6
  },
  {
   "metadata": {
    "ExecuteTime": {
     "end_time": "2025-10-13T08:06:45.370088Z",
     "start_time": "2025-10-13T08:06:44.613610Z"
    }
   },
   "cell_type": "code",
   "source": [
    "model = CTScanResNet50(num_classes=4).to(device)\n",
    "criterion = nn.CrossEntropyLoss()\n",
    "optimizer = optim.Adam(filter(lambda p: p.requires_grad, model.parameters()), lr=1e-4,weight_decay=1e-4)"
   ],
   "id": "5c060585548920ac",
   "outputs": [],
   "execution_count": 7
  },
  {
   "metadata": {
    "ExecuteTime": {
     "end_time": "2025-10-11T19:40:30.907262Z",
     "start_time": "2025-10-11T19:40:30.895917Z"
    }
   },
   "cell_type": "code",
   "source": [
    "\n",
    "def train_model(model, criterion, optimizer, epochs=10, patience=6, save_path=r\"C:\\Radiologist_helper\\trained_models\\CR_scan_model.pth\"):\n",
    "    start = time.time()\n",
    "    best_acc = 0.0\n",
    "    best_loss = float('inf')\n",
    "    patience_counter = 0\n",
    "\n",
    "    all_labels, all_predictions = [], []\n",
    "\n",
    "    for epoch in range(epochs):\n",
    "        model.train()\n",
    "        running_loss = 0.0\n",
    "\n",
    "        for batch_num, (images, labels) in enumerate(train_loader):\n",
    "            images, labels = images.to(device), labels.to(device)\n",
    "\n",
    "            optimizer.zero_grad()\n",
    "            outputs = model(images)\n",
    "            loss = criterion(outputs, labels)\n",
    "            loss.backward()\n",
    "            optimizer.step()\n",
    "\n",
    "            running_loss += loss.item() * images.size(0)\n",
    "\n",
    "            if (batch_num + 1) % 10 == 0:\n",
    "                print(f\"Batch: {batch_num+1}, Epoch: {epoch+1}, Loss: {loss.item():.4f}\")\n",
    "\n",
    "        epoch_loss = running_loss / len(train_loader.dataset)\n",
    "        print(f\"Epoch [{epoch+1}/{epochs}] - Avg Train Loss: {epoch_loss:.4f}\")\n",
    "\n",
    "        # ---------- Validation ----------\n",
    "        model.eval()\n",
    "        correct, total = 0, 0\n",
    "        val_loss = 0.0\n",
    "        with torch.no_grad():\n",
    "            for images, labels in val_loader:\n",
    "                images, labels = images.to(device), labels.to(device)\n",
    "                outputs = model(images)\n",
    "                loss = criterion(outputs, labels)\n",
    "                val_loss += loss.item() * images.size(0)\n",
    "                _, predicted = torch.max(outputs, 1)\n",
    "                total += labels.size(0)\n",
    "                correct += (predicted == labels).sum().item()\n",
    "\n",
    "                all_labels.extend(labels.cpu().numpy())\n",
    "                all_predictions.extend(predicted.cpu().numpy())\n",
    "\n",
    "        val_loss /= len(val_loader.dataset)\n",
    "        val_acc = 100 * correct / total\n",
    "        print(f\"Validation Loss: {val_loss:.4f} | Accuracy: {val_acc:.2f}%\")\n",
    "\n",
    "        # --- Early stopping and save ---\n",
    "        if val_loss < best_loss:\n",
    "            best_loss = val_loss\n",
    "            best_acc = val_acc\n",
    "            patience_counter = 0\n",
    "            torch.save(model.state_dict(), save_path)\n",
    "            print(f\"Best model saved at epoch {epoch+1}\")\n",
    "        else:\n",
    "            patience_counter += 1\n",
    "            print(f\"No improvement. Patience: {patience_counter}/{patience}\")\n",
    "            if patience_counter >= patience:\n",
    "                break\n",
    "\n",
    "    end = time.time()\n",
    "    print(f\"\\nTraining complete in {(end - start):.2f}s\")\n",
    "    print(f\"Best Validation Accuracy: {best_acc:.2f}%\")\n",
    "\n",
    "    return all_labels, all_predictions"
   ],
   "id": "669d17c572460c77",
   "outputs": [],
   "execution_count": 20
  },
  {
   "metadata": {
    "ExecuteTime": {
     "end_time": "2025-10-11T19:51:50.290115Z",
     "start_time": "2025-10-11T19:40:34.869030Z"
    }
   },
   "cell_type": "code",
   "source": "all_labels, all_predictions = train_model(model, criterion, optimizer, epochs=15)",
   "id": "8ffc2dfdc361fbc1",
   "outputs": [
    {
     "name": "stdout",
     "output_type": "stream",
     "text": [
      "Batch: 10, Epoch: 1, Loss: 0.0288\n",
      "Batch: 20, Epoch: 1, Loss: 0.9014\n",
      "Epoch [1/15] - Avg Train Loss: 0.0676\n",
      "Validation Loss: 5.2539 | Accuracy: 83.33%\n",
      "Best model saved at epoch 1\n",
      "Batch: 10, Epoch: 2, Loss: 0.1786\n",
      "Batch: 20, Epoch: 2, Loss: 0.2898\n",
      "Epoch [2/15] - Avg Train Loss: 0.0537\n",
      "Validation Loss: 3.3859 | Accuracy: 81.94%\n",
      "Best model saved at epoch 2\n",
      "Batch: 10, Epoch: 3, Loss: 0.0416\n",
      "Batch: 20, Epoch: 3, Loss: 1.0293\n",
      "Epoch [3/15] - Avg Train Loss: 0.0466\n",
      "Validation Loss: 4.7810 | Accuracy: 83.33%\n",
      "No improvement. Patience: 1/6\n",
      "Batch: 10, Epoch: 4, Loss: 0.0388\n",
      "Batch: 20, Epoch: 4, Loss: 0.0649\n",
      "Epoch [4/15] - Avg Train Loss: 0.0673\n",
      "Validation Loss: 5.0588 | Accuracy: 88.89%\n",
      "No improvement. Patience: 2/6\n",
      "Batch: 10, Epoch: 5, Loss: 0.0192\n",
      "Batch: 20, Epoch: 5, Loss: 0.1999\n",
      "Epoch [5/15] - Avg Train Loss: 0.0372\n",
      "Validation Loss: 4.4806 | Accuracy: 86.11%\n",
      "No improvement. Patience: 3/6\n",
      "Batch: 10, Epoch: 6, Loss: 0.0061\n",
      "Batch: 20, Epoch: 6, Loss: 0.2277\n",
      "Epoch [6/15] - Avg Train Loss: 0.0394\n",
      "Validation Loss: 3.5835 | Accuracy: 87.50%\n",
      "No improvement. Patience: 4/6\n",
      "Batch: 10, Epoch: 7, Loss: 0.0031\n",
      "Batch: 20, Epoch: 7, Loss: 0.0417\n",
      "Epoch [7/15] - Avg Train Loss: 0.0297\n",
      "Validation Loss: 4.6645 | Accuracy: 86.11%\n",
      "No improvement. Patience: 5/6\n",
      "Batch: 10, Epoch: 8, Loss: 0.0069\n",
      "Batch: 20, Epoch: 8, Loss: 0.6465\n",
      "Epoch [8/15] - Avg Train Loss: 0.0511\n",
      "Validation Loss: 4.7801 | Accuracy: 90.28%\n",
      "No improvement. Patience: 6/6\n",
      "\n",
      "Training complete in 675.41s\n",
      "Best Validation Accuracy: 81.94%\n"
     ]
    }
   ],
   "execution_count": 21
  },
  {
   "metadata": {
    "ExecuteTime": {
     "end_time": "2025-10-13T08:08:01.604932Z",
     "start_time": "2025-10-13T08:08:01.595646Z"
    }
   },
   "cell_type": "code",
   "source": [
    "def evaluate_test(model, test_loader, model_path=r\"C:\\Radiologist_helper\\trained_models\\CR_scan_model.pth\"):\n",
    "    device = next(model.parameters()).device\n",
    "    model.load_state_dict(torch.load(model_path, map_location=device))\n",
    "    model.eval()\n",
    "\n",
    "    correct = 0\n",
    "    total = 0\n",
    "\n",
    "    with torch.no_grad():\n",
    "        for images, labels in test_loader:\n",
    "            images, labels = images.to(device), labels.to(device)\n",
    "            outputs = model(images)\n",
    "            _, preds = torch.max(outputs, 1)\n",
    "\n",
    "            total += labels.size(0)\n",
    "            correct += (preds == labels).sum().item()\n",
    "\n",
    "    test_acc = 100 * correct / total\n",
    "    print(f\"*** Test Accuracy: {test_acc:.2f}% ***\")\n",
    "    return test_acc\n"
   ],
   "id": "27229391134511d1",
   "outputs": [],
   "execution_count": 10
  },
  {
   "metadata": {
    "ExecuteTime": {
     "end_time": "2025-10-13T08:08:35.088944Z",
     "start_time": "2025-10-13T08:08:04.426676Z"
    }
   },
   "cell_type": "code",
   "source": [
    "test_acc = evaluate_test(model, test_loader)\n",
    "print(f\"*** Test Accuracy: {test_acc:.2f}% ***\")"
   ],
   "id": "118dd1ebfa8b385b",
   "outputs": [
    {
     "name": "stdout",
     "output_type": "stream",
     "text": [
      "*** Test Accuracy: 85.08% ***\n",
      "*** Test Accuracy: 85.08% ***\n"
     ]
    }
   ],
   "execution_count": 11
  }
 ],
 "metadata": {
  "kernelspec": {
   "display_name": "Python 3",
   "language": "python",
   "name": "python3"
  },
  "language_info": {
   "codemirror_mode": {
    "name": "ipython",
    "version": 2
   },
   "file_extension": ".py",
   "mimetype": "text/x-python",
   "name": "python",
   "nbconvert_exporter": "python",
   "pygments_lexer": "ipython2",
   "version": "2.7.6"
  }
 },
 "nbformat": 4,
 "nbformat_minor": 5
}
