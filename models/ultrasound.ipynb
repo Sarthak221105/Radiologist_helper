{
 "cells": [
  {
   "cell_type": "code",
   "id": "initial_id",
   "metadata": {
    "collapsed": true,
    "ExecuteTime": {
     "end_time": "2025-10-13T07:11:11.047615Z",
     "start_time": "2025-10-13T07:10:57.464283Z"
    }
   },
   "source": [
    "import os\n",
    "from torchvision import datasets, transforms\n",
    "from torch.utils.data import DataLoader\n",
    "from torch.utils.data import random_split\n",
    "import torch\n",
    "import torch.nn as nn\n",
    "import torch.optim as optim\n",
    "import torch.nn.functional as F\n",
    "import time\n",
    "import torchvision.models as models\n",
    "from matplotlib import pyplot as plt"
   ],
   "outputs": [],
   "execution_count": 4
  },
  {
   "metadata": {
    "ExecuteTime": {
     "end_time": "2025-10-13T07:11:13.775006Z",
     "start_time": "2025-10-13T07:11:13.755314Z"
    }
   },
   "cell_type": "code",
   "source": [
    "device = torch.device(\"cuda\" if torch.cuda.is_available() else \"cpu\")\n",
    "device"
   ],
   "id": "83195afd63d7deb4",
   "outputs": [
    {
     "data": {
      "text/plain": [
       "device(type='cpu')"
      ]
     },
     "execution_count": 5,
     "metadata": {},
     "output_type": "execute_result"
    }
   ],
   "execution_count": 5
  },
  {
   "metadata": {
    "ExecuteTime": {
     "end_time": "2025-10-13T07:11:16.270344Z",
     "start_time": "2025-10-13T07:11:16.257221Z"
    }
   },
   "cell_type": "code",
   "source": [
    "train_transform = transforms.Compose([\n",
    "    transforms.Resize((224,224)),\n",
    "    transforms.Grayscale(num_output_channels=3),\n",
    "    transforms.RandomHorizontalFlip(),\n",
    "    transforms.RandomRotation(10),\n",
    "    transforms.ColorJitter(brightness=0.2, contrast=0.2),\n",
    "    transforms.ToTensor(),\n",
    "    transforms.Normalize([0.485,0.456,0.406],[0.229,0.224,0.225])\n",
    "])\n",
    "\n",
    "val_test_transform = transforms.Compose([\n",
    "    transforms.Resize((224,224)),\n",
    "    transforms.ToTensor(),\n",
    "    transforms.Normalize([0.485,0.456,0.406],[0.229,0.224,0.225])\n",
    "])"
   ],
   "id": "35e477ba89d4bc5",
   "outputs": [],
   "execution_count": 6
  },
  {
   "metadata": {
    "ExecuteTime": {
     "end_time": "2025-10-13T07:11:19.161657Z",
     "start_time": "2025-10-13T07:11:19.121618Z"
    }
   },
   "cell_type": "code",
   "source": "full_dataset = datasets.ImageFolder(r'C:\\Radiologist_helper\\datasets\\ultrasound', transform=train_transform)",
   "id": "7c283caa5b6b2cc",
   "outputs": [],
   "execution_count": 7
  },
  {
   "metadata": {
    "ExecuteTime": {
     "end_time": "2025-10-13T07:11:21.757682Z",
     "start_time": "2025-10-13T07:11:21.732464Z"
    }
   },
   "cell_type": "code",
   "source": [
    "train_size = int(0.8 * len(full_dataset))\n",
    "val_size = int(0.1 * len(full_dataset))\n",
    "test_size = len(full_dataset) - train_size - val_size\n",
    "\n",
    "train_dataset, val_dataset, test_dataset = random_split(full_dataset, [train_size, val_size, test_size])"
   ],
   "id": "ca38fafd2c277fe3",
   "outputs": [],
   "execution_count": 8
  },
  {
   "metadata": {
    "ExecuteTime": {
     "end_time": "2025-10-13T07:11:25.714120Z",
     "start_time": "2025-10-13T07:11:25.706681Z"
    }
   },
   "cell_type": "code",
   "source": [
    "val_dataset.dataset.transform = val_test_transform\n",
    "test_dataset.dataset.transform = val_test_transform"
   ],
   "id": "1befae98ed67b0fe",
   "outputs": [],
   "execution_count": 10
  },
  {
   "metadata": {
    "ExecuteTime": {
     "end_time": "2025-10-13T07:18:06.567324Z",
     "start_time": "2025-10-13T07:18:06.558884Z"
    }
   },
   "cell_type": "code",
   "source": [
    "print(train_dataset.dataset.class_to_idx)\n",
    "print(test_dataset.dataset.class_to_idx)\n"
   ],
   "id": "85eb82792ccab287",
   "outputs": [
    {
     "name": "stdout",
     "output_type": "stream",
     "text": [
      "{'benign': 0, 'malignant': 1, 'normal': 2}\n",
      "{'benign': 0, 'malignant': 1, 'normal': 2}\n"
     ]
    }
   ],
   "execution_count": 18
  },
  {
   "metadata": {
    "ExecuteTime": {
     "end_time": "2025-10-13T07:11:27.710036Z",
     "start_time": "2025-10-13T07:11:27.693905Z"
    }
   },
   "cell_type": "code",
   "source": [
    "train_loader = DataLoader(train_dataset, batch_size=16, shuffle=True)\n",
    "val_loader = DataLoader(val_dataset, batch_size=16, shuffle=False)\n",
    "test_loader = DataLoader(test_dataset, batch_size=16, shuffle=False)"
   ],
   "id": "37ca18dee48fba19",
   "outputs": [],
   "execution_count": 11
  },
  {
   "metadata": {
    "ExecuteTime": {
     "end_time": "2025-10-13T07:11:29.924073Z",
     "start_time": "2025-10-13T07:11:29.912695Z"
    }
   },
   "cell_type": "code",
   "source": [
    "class UltrasoundResNet50(nn.Module):\n",
    "    def __init__(self, num_classes=3, dropout_rate=0.3):\n",
    "        super().__init__()\n",
    "        self.model = models.resnet50(weights='DEFAULT')\n",
    "\n",
    "        # Freeze all layers\n",
    "        for param in self.model.parameters():\n",
    "            param.requires_grad = False\n",
    "\n",
    "        # Optional: unfreeze last block (layer4)\n",
    "        for param in self.model.layer4.parameters():\n",
    "            param.requires_grad = True\n",
    "\n",
    "        # Replace fully connected layer\n",
    "        in_features = self.model.fc.in_features\n",
    "        self.model.fc = nn.Sequential(\n",
    "            nn.Dropout(dropout_rate),\n",
    "            nn.Linear(in_features, num_classes)\n",
    "        )\n",
    "\n",
    "    def forward(self, x):\n",
    "        return self.model(x)"
   ],
   "id": "9bfb97d89fa60c8b",
   "outputs": [],
   "execution_count": 12
  },
  {
   "metadata": {
    "ExecuteTime": {
     "end_time": "2025-10-13T07:11:34.407605Z",
     "start_time": "2025-10-13T07:11:33.166362Z"
    }
   },
   "cell_type": "code",
   "source": [
    "model = UltrasoundResNet50(num_classes=3).to(device)\n",
    "criterion = nn.CrossEntropyLoss()\n",
    "optimizer = optim.Adam(filter(lambda p: p.requires_grad, model.parameters()), lr=1e-4)"
   ],
   "id": "75eb7d5aaa14eaa9",
   "outputs": [],
   "execution_count": 13
  },
  {
   "metadata": {
    "ExecuteTime": {
     "end_time": "2025-10-12T07:10:37.385234Z",
     "start_time": "2025-10-12T07:10:37.364110Z"
    }
   },
   "cell_type": "code",
   "source": [
    "\n",
    "def train_model(model, criterion, optimizer, epochs=10, patience=5, save_path=r\"C:\\Radiologist_helper\\trained_models\\Ultrasound_model.pth\"):\n",
    "    start = time.time()\n",
    "    best_acc = 0.0\n",
    "    best_loss = float('inf')\n",
    "    patience_counter = 0\n",
    "\n",
    "    all_labels, all_predictions = [], []\n",
    "\n",
    "    for epoch in range(epochs):\n",
    "        model.train()\n",
    "        running_loss = 0.0\n",
    "\n",
    "        for batch_num, (images, labels) in enumerate(train_loader):\n",
    "            images, labels = images.to(device), labels.to(device)\n",
    "\n",
    "            optimizer.zero_grad()\n",
    "            outputs = model(images)\n",
    "            loss = criterion(outputs, labels)\n",
    "            loss.backward()\n",
    "            optimizer.step()\n",
    "\n",
    "            running_loss += loss.item() * images.size(0)\n",
    "\n",
    "            if (batch_num + 1) % 10 == 0:\n",
    "                print(f\"Batch: {batch_num+1}, Epoch: {epoch+1}, Loss: {loss.item():.4f}\")\n",
    "\n",
    "        epoch_loss = running_loss / len(train_loader.dataset)\n",
    "        print(f\"Epoch [{epoch+1}/{epochs}] - Avg Train Loss: {epoch_loss:.4f}\")\n",
    "\n",
    "        # ---------- Validation ----------\n",
    "        model.eval()\n",
    "        correct, total = 0, 0\n",
    "        val_loss = 0.0\n",
    "        with torch.no_grad():\n",
    "            for images, labels in val_loader:\n",
    "                images, labels = images.to(device), labels.to(device)\n",
    "                outputs = model(images)\n",
    "                loss = criterion(outputs, labels)\n",
    "                val_loss += loss.item() * images.size(0)\n",
    "                _, predicted = torch.max(outputs, 1)\n",
    "                total += labels.size(0)\n",
    "                correct += (predicted == labels).sum().item()\n",
    "\n",
    "                all_labels.extend(labels.cpu().numpy())\n",
    "                all_predictions.extend(predicted.cpu().numpy())\n",
    "\n",
    "        val_loss /= len(val_loader.dataset)\n",
    "        val_acc = 100 * correct / total\n",
    "        print(f\"Validation Loss: {val_loss:.4f} | Accuracy: {val_acc:.2f}%\")\n",
    "\n",
    "        # --- Early stopping and save ---\n",
    "        if val_loss < best_loss:\n",
    "            best_loss = val_loss\n",
    "            best_acc = val_acc\n",
    "            patience_counter = 0\n",
    "            torch.save(model.state_dict(), save_path)\n",
    "            print(f\"Best model saved at epoch {epoch+1}\")\n",
    "        else:\n",
    "            patience_counter += 1\n",
    "            print(f\"No improvement. Patience: {patience_counter}/{patience}\")\n",
    "            if patience_counter >= patience:\n",
    "                break\n",
    "\n",
    "    end = time.time()\n",
    "    print(f\"\\nTraining complete in {(end - start):.2f}s\")\n",
    "    print(f\"Best Validation Accuracy: {best_acc:.2f}%\")\n",
    "\n",
    "    return all_labels, all_predictions"
   ],
   "id": "d1eb9d9d747d601d",
   "outputs": [],
   "execution_count": 13
  },
  {
   "metadata": {
    "ExecuteTime": {
     "end_time": "2025-10-12T07:41:30.938996Z",
     "start_time": "2025-10-12T07:10:51.394068Z"
    }
   },
   "cell_type": "code",
   "source": "all_labels, all_predictions = train_model(model, criterion, optimizer, epochs=10)",
   "id": "8e74ab37e5c2b793",
   "outputs": [
    {
     "name": "stdout",
     "output_type": "stream",
     "text": [
      "Batch: 10, Epoch: 1, Loss: 0.9313\n",
      "Batch: 20, Epoch: 1, Loss: 0.5991\n",
      "Batch: 30, Epoch: 1, Loss: 0.6570\n",
      "Batch: 40, Epoch: 1, Loss: 0.8065\n",
      "Batch: 50, Epoch: 1, Loss: 0.5615\n",
      "Batch: 60, Epoch: 1, Loss: 0.6455\n",
      "Batch: 70, Epoch: 1, Loss: 0.3932\n",
      "Epoch [1/10] - Avg Train Loss: 0.6804\n",
      "Validation Loss: 0.4389 | Accuracy: 80.89%\n",
      "Best model saved at epoch 1\n",
      "Batch: 10, Epoch: 2, Loss: 0.4333\n",
      "Batch: 20, Epoch: 2, Loss: 0.3075\n",
      "Batch: 30, Epoch: 2, Loss: 0.1899\n",
      "Batch: 40, Epoch: 2, Loss: 0.4679\n",
      "Batch: 50, Epoch: 2, Loss: 0.3582\n",
      "Batch: 60, Epoch: 2, Loss: 0.3518\n",
      "Batch: 70, Epoch: 2, Loss: 0.5394\n",
      "Epoch [2/10] - Avg Train Loss: 0.3691\n",
      "Validation Loss: 0.3417 | Accuracy: 89.17%\n",
      "Best model saved at epoch 2\n",
      "Batch: 10, Epoch: 3, Loss: 0.2570\n",
      "Batch: 20, Epoch: 3, Loss: 0.3666\n",
      "Batch: 30, Epoch: 3, Loss: 0.3468\n",
      "Batch: 40, Epoch: 3, Loss: 0.2375\n",
      "Batch: 50, Epoch: 3, Loss: 0.2838\n",
      "Batch: 60, Epoch: 3, Loss: 0.3173\n",
      "Batch: 70, Epoch: 3, Loss: 0.3254\n",
      "Epoch [3/10] - Avg Train Loss: 0.2328\n",
      "Validation Loss: 0.3074 | Accuracy: 87.90%\n",
      "Best model saved at epoch 3\n",
      "Batch: 10, Epoch: 4, Loss: 0.0969\n",
      "Batch: 20, Epoch: 4, Loss: 0.1387\n",
      "Batch: 30, Epoch: 4, Loss: 0.1316\n",
      "Batch: 40, Epoch: 4, Loss: 0.0854\n",
      "Batch: 50, Epoch: 4, Loss: 0.1245\n",
      "Batch: 60, Epoch: 4, Loss: 0.0497\n",
      "Batch: 70, Epoch: 4, Loss: 0.1268\n",
      "Epoch [4/10] - Avg Train Loss: 0.1201\n",
      "Validation Loss: 0.3111 | Accuracy: 87.90%\n",
      "No improvement. Patience: 1/5\n",
      "Batch: 10, Epoch: 5, Loss: 0.0927\n",
      "Batch: 20, Epoch: 5, Loss: 0.3416\n",
      "Batch: 30, Epoch: 5, Loss: 0.3206\n",
      "Batch: 40, Epoch: 5, Loss: 0.0233\n",
      "Batch: 50, Epoch: 5, Loss: 0.0568\n",
      "Batch: 60, Epoch: 5, Loss: 0.0419\n",
      "Batch: 70, Epoch: 5, Loss: 0.1963\n",
      "Epoch [5/10] - Avg Train Loss: 0.1233\n",
      "Validation Loss: 0.2251 | Accuracy: 90.45%\n",
      "Best model saved at epoch 5\n",
      "Batch: 10, Epoch: 6, Loss: 0.0543\n",
      "Batch: 20, Epoch: 6, Loss: 0.4734\n",
      "Batch: 30, Epoch: 6, Loss: 0.0169\n",
      "Batch: 40, Epoch: 6, Loss: 0.0407\n",
      "Batch: 50, Epoch: 6, Loss: 0.0041\n",
      "Batch: 60, Epoch: 6, Loss: 0.0532\n",
      "Batch: 70, Epoch: 6, Loss: 0.0135\n",
      "Epoch [6/10] - Avg Train Loss: 0.0839\n",
      "Validation Loss: 0.2681 | Accuracy: 91.08%\n",
      "No improvement. Patience: 1/5\n",
      "Batch: 10, Epoch: 7, Loss: 0.0494\n",
      "Batch: 20, Epoch: 7, Loss: 0.0348\n",
      "Batch: 30, Epoch: 7, Loss: 0.0021\n",
      "Batch: 40, Epoch: 7, Loss: 0.0178\n",
      "Batch: 50, Epoch: 7, Loss: 0.0083\n",
      "Batch: 60, Epoch: 7, Loss: 0.0104\n",
      "Batch: 70, Epoch: 7, Loss: 0.0716\n",
      "Epoch [7/10] - Avg Train Loss: 0.0538\n",
      "Validation Loss: 0.2197 | Accuracy: 90.45%\n",
      "Best model saved at epoch 7\n",
      "Batch: 10, Epoch: 8, Loss: 0.0670\n",
      "Batch: 20, Epoch: 8, Loss: 0.0142\n",
      "Batch: 30, Epoch: 8, Loss: 0.0089\n",
      "Batch: 40, Epoch: 8, Loss: 0.0178\n",
      "Batch: 50, Epoch: 8, Loss: 0.0100\n",
      "Batch: 60, Epoch: 8, Loss: 0.0217\n",
      "Batch: 70, Epoch: 8, Loss: 0.2163\n",
      "Epoch [8/10] - Avg Train Loss: 0.0680\n",
      "Validation Loss: 0.2965 | Accuracy: 89.81%\n",
      "No improvement. Patience: 1/5\n",
      "Batch: 10, Epoch: 9, Loss: 0.0094\n",
      "Batch: 20, Epoch: 9, Loss: 0.0044\n",
      "Batch: 30, Epoch: 9, Loss: 0.0415\n",
      "Batch: 40, Epoch: 9, Loss: 0.0042\n",
      "Batch: 50, Epoch: 9, Loss: 0.0250\n",
      "Batch: 60, Epoch: 9, Loss: 0.0084\n",
      "Batch: 70, Epoch: 9, Loss: 0.2515\n",
      "Epoch [9/10] - Avg Train Loss: 0.0503\n",
      "Validation Loss: 0.2737 | Accuracy: 89.81%\n",
      "No improvement. Patience: 2/5\n",
      "Batch: 10, Epoch: 10, Loss: 0.0074\n",
      "Batch: 20, Epoch: 10, Loss: 0.1669\n",
      "Batch: 30, Epoch: 10, Loss: 0.0151\n",
      "Batch: 40, Epoch: 10, Loss: 0.0040\n",
      "Batch: 50, Epoch: 10, Loss: 0.0034\n",
      "Batch: 60, Epoch: 10, Loss: 0.0083\n",
      "Batch: 70, Epoch: 10, Loss: 0.0547\n",
      "Epoch [10/10] - Avg Train Loss: 0.0385\n",
      "Validation Loss: 0.2966 | Accuracy: 89.17%\n",
      "No improvement. Patience: 3/5\n",
      "\n",
      "Training complete in 1839.54s\n",
      "Best Validation Accuracy: 90.45%\n"
     ]
    }
   ],
   "execution_count": 14
  },
  {
   "metadata": {
    "ExecuteTime": {
     "end_time": "2025-10-13T07:20:06.144511Z",
     "start_time": "2025-10-13T07:20:06.133694Z"
    }
   },
   "cell_type": "code",
   "source": [
    "def evaluate_test(model, test_loader, model_path=r\"C:\\Radiologist_helper\\trained_models\\Ultrasound_model.pth\"):\n",
    "    device = next(model.parameters()).device\n",
    "    model.load_state_dict(torch.load(model_path, map_location=device))\n",
    "    model.eval()\n",
    "\n",
    "    correct = 0\n",
    "    total = 0\n",
    "\n",
    "    with torch.no_grad():\n",
    "        for images, labels in test_loader:\n",
    "            images, labels = images.to(device), labels.to(device)\n",
    "            outputs = model(images)\n",
    "            _, preds = torch.max(outputs, 1)\n",
    "\n",
    "            total += labels.size(0)\n",
    "            correct += (preds == labels).sum().item()\n",
    "\n",
    "    test_acc = 100 * correct / total\n",
    "    print(f\"*** Test Accuracy: {test_acc:.2f}% ***\")\n",
    "    return test_acc\n"
   ],
   "id": "e6a9615a49af7939",
   "outputs": [],
   "execution_count": 19
  },
  {
   "metadata": {
    "ExecuteTime": {
     "end_time": "2025-10-13T07:20:27.493234Z",
     "start_time": "2025-10-13T07:20:09.463667Z"
    }
   },
   "cell_type": "code",
   "source": [
    "test_acc = evaluate_test(model, test_loader)\n",
    "print(f\"*** Test Accuracy: {test_acc:.2f}% ***\")"
   ],
   "id": "86a2ff5785a1861e",
   "outputs": [
    {
     "name": "stdout",
     "output_type": "stream",
     "text": [
      "*** Test Accuracy: 94.97% ***\n",
      "*** Test Accuracy: 94.97% ***\n"
     ]
    }
   ],
   "execution_count": 20
  }
 ],
 "metadata": {
  "kernelspec": {
   "display_name": "Python 3",
   "language": "python",
   "name": "python3"
  },
  "language_info": {
   "codemirror_mode": {
    "name": "ipython",
    "version": 2
   },
   "file_extension": ".py",
   "mimetype": "text/x-python",
   "name": "python",
   "nbconvert_exporter": "python",
   "pygments_lexer": "ipython2",
   "version": "2.7.6"
  }
 },
 "nbformat": 4,
 "nbformat_minor": 5
}
